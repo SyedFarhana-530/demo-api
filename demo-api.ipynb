{
 "cells": [
  {
   "cell_type": "code",
   "execution_count": null,
   "metadata": {},
   "outputs": [],
   "source": [
    "{\n",
    "    \"page\": 2,\n",
    "    \"per_page\": 6,\n",
    "    \"total\": 12,\n",
    "    \"total_pages\": 2,\n",
    "    \"data\": [\n",
    "        {\n",
    "            \"id\": 7,\n",
    "            \"email\": \"michael.lawson@reqres.in\",\n",
    "            \"first_name\": \"Michael\",\n",
    "            \"last_name\": \"Lawson\",\n",
    "            \"avatar\": \"https://reqres.in/img/faces/7-image.jpg\"\n",
    "        },\n",
    "        {\n",
    "            \"id\": 8,\n",
    "            \"email\": \"lindsay.ferguson@reqres.in\",\n",
    "            \"first_name\": \"Lindsay\",\n",
    "            \"last_name\": \"Ferguson\",\n",
    "            \"avatar\": \"https://reqres.in/img/faces/8-image.jpg\"\n",
    "        },\n",
    "        {\n",
    "            \"id\": 9,\n",
    "            \"email\": \"tobias.funke@reqres.in\",\n",
    "            \"first_name\": \"Tobias\",\n",
    "            \"last_name\": \"Funke\",\n",
    "            \"avatar\": \"https://reqres.in/img/faces/9-image.jpg\"\n",
    "        },\n",
    "        {\n",
    "            \"id\": 10,\n",
    "            \"email\": \"byron.fields@reqres.in\",\n",
    "            \"first_name\": \"Byron\",\n",
    "            \"last_name\": \"Fields\",\n",
    "            \"avatar\": \"https://reqres.in/img/faces/10-image.jpg\"\n",
    "        },\n",
    "        {\n",
    "            \"id\": 11,\n",
    "            \"email\": \"george.edwards@reqres.in\",\n",
    "            \"first_name\": \"George\",\n",
    "            \"last_name\": \"Edwards\",\n",
    "            \"avatar\": \"https://reqres.in/img/faces/11-image.jpg\"\n",
    "        },\n",
    "        {\n",
    "            \"id\": 12,\n",
    "            \"email\": \"rachel.howell@reqres.in\",\n",
    "            \"first_name\": \"Rachel\",\n",
    "            \"last_name\": \"Howell\",\n",
    "            \"avatar\": \"https://reqres.in/img/faces/12-image.jpg\"\n",
    "        }\n",
    "    ],\n",
    "    \"support\": {\n",
    "        \"url\": \"https://contentcaddy.io?utm_source=reqres&utm_medium=json&utm_campaign=referral\",\n",
    "        \"text\": \"Tired of writing endless social media content? Let Content Caddy generate it for you.\"\n",
    "    }\n",
    "}"
   ]
  }
 ],
 "metadata": {
  "kernelspec": {
   "display_name": "Python 3",
   "language": "python",
   "name": "python3"
  },
  "language_info": {
   "name": "python",
   "version": "3.11.0"
  }
 },
 "nbformat": 4,
 "nbformat_minor": 2
}
